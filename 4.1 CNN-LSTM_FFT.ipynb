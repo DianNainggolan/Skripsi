{
 "cells": [
  {
   "cell_type": "code",
   "execution_count": 1,
   "id": "e793d6f9-1015-4e22-a5cb-c2c722423606",
   "metadata": {},
   "outputs": [],
   "source": [
    "import os\n",
    "import cv2\n",
    "import copy\n",
    "import time\n",
    "import pickle\n",
    "import itertools\n",
    "import numpy as np\n",
    "import pandas as pd\n",
    "import seaborn as sns\n",
    "import matplotlib.pyplot as plt\n",
    "from tqdm import tqdm\n",
    "from sklearn.model_selection import train_test_split\n",
    "from sklearn.metrics import confusion_matrix"
   ]
  },
  {
   "cell_type": "markdown",
   "id": "77e0e755-4d41-4f70-84d6-3e806c6a30cd",
   "metadata": {},
   "source": [
    "## Load Data"
   ]
  },
  {
   "cell_type": "code",
   "execution_count": 2,
   "id": "377e50bb-910f-474b-85af-5f8938cbad5c",
   "metadata": {},
   "outputs": [
    {
     "name": "stdout",
     "output_type": "stream",
     "text": [
      "Shape data train: (1800, 145, 145, 3)\n",
      "Shape data test : (450, 145, 145, 3)\n",
      "Shape label train: (1800, 4)\n",
      "Shape label test : (450, 4)\n"
     ]
    }
   ],
   "source": [
    "dataset_path = '7.1. FFT_Plot'\n",
    "\n",
    "image_paths = []\n",
    "labels = []\n",
    "\n",
    "for label in os.listdir(dataset_path):\n",
    "    label_path = os.path.join(dataset_path, label)\n",
    "    if os.path.isdir(label_path):\n",
    "        for filename in os.listdir(label_path):\n",
    "            file_path = os.path.join(label_path, filename)\n",
    "            image_paths.append(file_path)\n",
    "            labels.append(int(label))\n",
    "\n",
    "data = pd.DataFrame({'image_path': image_paths, 'label': labels})\n",
    "\n",
    "dataset = []\n",
    "labels = []\n",
    "size = 145\n",
    "\n",
    "for _, row in data.iterrows():\n",
    "    source_path = row['image_path']\n",
    "    label = row['label']\n",
    "    image = cv2.imread(source_path)\n",
    "    if image is not None:\n",
    "        resized_image = cv2.resize(image, (size, size))\n",
    "        rescaled_image = resized_image / 255.0\n",
    "        dataset.append(rescaled_image)\n",
    "        labels.append(label)\n",
    "\n",
    "dataset = np.array(dataset)\n",
    "labels = np.array(labels)\n",
    "\n",
    "X_train, X_test, y_train, y_test = train_test_split(dataset, labels, test_size=0.2, random_state=42)\n",
    "\n",
    "def to_categorical(y, num_classes):\n",
    "    return np.eye(num_classes)[y]\n",
    "\n",
    "num_classes = len(np.unique(labels))\n",
    "y_train = to_categorical(y_train, num_classes)\n",
    "y_test = to_categorical(y_test, num_classes)\n",
    "\n",
    "print('Shape data train:', X_train.shape)\n",
    "print('Shape data test :', X_test.shape)\n",
    "print('Shape label train:', y_train.shape)\n",
    "print('Shape label test :', y_test.shape)\n"
   ]
  },
  {
   "cell_type": "markdown",
   "id": "8807a28c-2910-4fc0-82d4-5150b8dc9c99",
   "metadata": {},
   "source": [
    "## CNN-LSTM"
   ]
  },
  {
   "cell_type": "code",
   "execution_count": 3,
   "id": "9e9b82a7-629d-48c7-a212-feb64523d5a3",
   "metadata": {},
   "outputs": [],
   "source": [
    "# Fungsi inisialisasi bobot dan bias\n",
    "def init_weights(shape):\n",
    "    return np.random.randn(*shape) * 0.1\n",
    "\n",
    "def init_weights_he(shape):\n",
    "  return np.random.randn(*shape) * np.sqrt(2.0 / shape[0])\n",
    "\n",
    "# Fungsi aktivasi ReLU\n",
    "def relu(x):\n",
    "    return np.maximum(0, x)\n",
    "\n",
    "# Fungsi turunan ReLU untuk backpropagation\n",
    "def relu_derivative(x):\n",
    "    return np.where(x > 0, 1, 0)\n",
    "\n",
    "# Fungsi Softmax untuk aktivasi layer output\n",
    "def softmax(x):\n",
    "    exps = np.exp(x - np.max(x, axis=1, keepdims=True))\n",
    "    return exps / np.sum(exps, axis=1, keepdims=True)\n",
    "\n",
    "# Fungsi untuk menghitung loss Categorical Cross-Entropy\n",
    "def categorical_crossentropy(y_true, y_pred):\n",
    "    return -np.sum(y_true * np.log(y_pred + 1e-9)) / y_true.shape[0]\n",
    "\n",
    "# Turunan dari fungsi loss Categorical Cross-Entropy\n",
    "def categorical_crossentropy_derivative(y_true, y_pred):\n",
    "    return y_pred - y_true\n",
    "\n",
    " # Gradient Clipping untuk mengatasi vanishing/exploding gradients\n",
    "def clip_gradients(gradients, threshold=1.0):\n",
    "    norm = np.linalg.norm(gradients)\n",
    "    if norm > threshold:\n",
    "        gradients = gradients * (threshold / norm)\n",
    "    return gradients\n",
    "\n",
    "# Fungsi Dropout\n",
    "def dropout(X, rate):\n",
    "    mask = np.random.rand(*X.shape) > rate\n",
    "    return X * mask / (1 - rate)\n",
    "\n",
    "# Fungsi untuk Learning Rate Exponential Decay\n",
    "def exponential_decay(epoch, initial_lr, decay_rate=0.95):\n",
    "    return initial_lr * (decay_rate ** epoch)\n",
    "\n",
    "# Fungsi Early Stopping\n",
    "class EarlyStopping:\n",
    "    def __init__(self, patience=5):\n",
    "        self.patience = patience\n",
    "        self.best_val_accuracy = 0\n",
    "        self.wait = 0\n",
    "        self.stopped_epoch = 0\n",
    "        self.stop_training = False\n",
    "\n",
    "    def on_epoch_end(self, val_accuracy):\n",
    "        if val_accuracy > self.best_val_accuracy:\n",
    "            self.best_val_accuracy = val_accuracy\n",
    "            self.wait = 0\n",
    "        else:\n",
    "            self.wait += 1\n",
    "            if self.wait >= self.patience:\n",
    "                self.stop_training = True\n",
    "                self.stopped_epoch = epochs\n",
    "\n",
    "# Layer dengan Regularisasi L2\n",
    "def l2_regularization(weights, lambda_=0.01):\n",
    "    return lambda_ * np.sum(weights ** 2)\n",
    "    \n",
    "# Layer konvolusi sederhana (2D Convolution)\n",
    "def conv2d(X, W, b):\n",
    "    n_samples, height, width, channels = X.shape\n",
    "    num_filters, kernel_height, kernel_width, filter_channels = W.shape\n",
    "    out_height = height - kernel_height + 1\n",
    "    out_width = width - kernel_width + 1\n",
    "    output = np.zeros((n_samples, out_height, out_width, num_filters))\n",
    "\n",
    "    for i in range(out_height):\n",
    "        for j in range(out_width):\n",
    "            region = X[:, i:i + kernel_height, j:j + kernel_width, :]\n",
    "            output[:, i, j, :] = np.tensordot(region, W, axes=([1, 2, 3], [1, 2, 3])) + b\n",
    "    return relu(output)\n",
    "\n",
    "# Backpropagation untuk layer konvolusi\n",
    "def conv2d_backward(d_output, X, W):\n",
    "    # Ambil dimensi input X dan filter W\n",
    "    n_samples, height, width, channels = X.shape\n",
    "    num_filters, kernel_height, kernel_width, filter_channels = W.shape\n",
    "\n",
    "    # Ambil dimensi output dari d_output\n",
    "    if len(d_output.shape) == 4:\n",
    "        _, out_height, out_width, _ = d_output.shape\n",
    "    else:\n",
    "        raise ValueError(\"d_output harus memiliki 4 dimensi, tetapi ditemukan: \" + str(d_output.shape))\n",
    "\n",
    "    # Inisialisasi gradien\n",
    "    dW = np.zeros_like(W)\n",
    "    db = np.zeros((1, num_filters))\n",
    "    dX = np.zeros_like(X)\n",
    "\n",
    "    for i in range(out_height):\n",
    "        for j in range(out_width):\n",
    "            region = X[:, i:i + kernel_height, j:j + kernel_width, :]\n",
    "            for f in range(num_filters):\n",
    "                dW[f] += np.sum(region * d_output[:, i:i + 1, j:j + 1, f:f + 1], axis=0)\n",
    "                db[:, f] += np.sum(d_output[:, i, j, f])\n",
    "                dX[:, i:i + kernel_height, j:j + kernel_width, :] += d_output[:, i:i + 1, j:j + 1, f:f + 1] * W[f]\n",
    "\n",
    "    return dX, dW, db\n",
    "\n",
    "\n",
    "\n",
    "# Fungsi Max Pooling\n",
    "def max_pool2d(X, pool_size=2):\n",
    "    n_samples, height, width, channels = X.shape\n",
    "    out_height = height // pool_size\n",
    "    out_width = width // pool_size\n",
    "    output = np.zeros((n_samples, out_height, out_width, channels))\n",
    "\n",
    "    for i in range(out_height):\n",
    "        for j in range(out_width):\n",
    "            region = X[:, i*pool_size:(i+1)*pool_size, j*pool_size:(j+1)*pool_size, :]\n",
    "            output[:, i, j, :] = np.max(region, axis=(1, 2))\n",
    "    return output\n",
    "\n",
    "class SimpleLSTM:\n",
    "    def __init__(self, input_dim, units):\n",
    "        self.units = units\n",
    "        self.Wx = init_weights((input_dim, units))\n",
    "        self.Wh = init_weights((units, units))\n",
    "        self.b = init_weights((1, units))\n",
    "\n",
    "    def forward(self, X):\n",
    "        batch_size, time_steps, features = X.shape\n",
    "        self.h = np.zeros((batch_size, self.units))\n",
    "        self.outputs = np.zeros((batch_size, time_steps, self.units))\n",
    "        self.inputs = X  # Menyimpan input untuk backpropagation\n",
    "\n",
    "        for t in range(time_steps):\n",
    "            self.h = np.tanh(np.dot(X[:, t, :], self.Wx) + np.dot(self.h, self.Wh) + self.b)\n",
    "            self.outputs[:, t, :] = self.h\n",
    "\n",
    "        return self.outputs[:, -1, :]  # return last output only\n",
    "\n",
    "    def backward(self, d_output, learning_rate):\n",
    "        batch_size, time_steps, features = self.inputs.shape\n",
    "        dWx = np.zeros_like(self.Wx)\n",
    "        dWh = np.zeros_like(self.Wh)\n",
    "        db = np.zeros_like(self.b)\n",
    "        dX = np.zeros_like(self.inputs)\n",
    "\n",
    "        # Inisialisasi gradien untuk hidden state terakhir\n",
    "        dh_next = d_output\n",
    "\n",
    "        # Backpropagation Through Time (BPTT)\n",
    "        for t in reversed(range(time_steps)):\n",
    "            # Gradien untuk tanh pada output (self.outputs)\n",
    "            dtanh = (1 - self.outputs[:, t, :] ** 2) * dh_next\n",
    "\n",
    "            # Gradien parameter\n",
    "            dWx += np.dot(self.inputs[:, t, :].T, dtanh)\n",
    "            dWh += np.dot(self.h.T, dtanh)\n",
    "            db += np.sum(dtanh, axis=0, keepdims=True)\n",
    "\n",
    "            # Gradien untuk input X\n",
    "            dX[:, t, :] = np.dot(dtanh, self.Wx.T)\n",
    "\n",
    "            # Update dh_next untuk langkah waktu berikutnya\n",
    "            dh_next = np.dot(dtanh, self.Wh.T)\n",
    "\n",
    "        # Update parameter LSTM\n",
    "        self.Wx -= learning_rate * dWx\n",
    "        self.Wh -= learning_rate * dWh\n",
    "        self.b -= learning_rate * db\n",
    "\n",
    "        return dh_next  # Gradien terhadap input LSTM untuk diteruskan ke layer sebelumnya\n",
    "\n",
    "\n",
    "# Dense layer dengan Softmax\n",
    "class Dense:\n",
    "    def __init__(self, input_dim, units):\n",
    "        self.W = init_weights((input_dim, units))\n",
    "        self.b = np.zeros((1, units))\n",
    "\n",
    "    def forward(self, X):\n",
    "        self.X = X\n",
    "        return np.dot(X, self.W) + self.b\n",
    "\n",
    "    def backward(self, d_output, learning_rate):\n",
    "        dW = np.dot(self.X.T, d_output)\n",
    "        db = np.sum(d_output, axis=0, keepdims=True)\n",
    "        dX = np.dot(d_output, self.W.T)\n",
    "        self.W -= learning_rate * dW\n",
    "        self.b -= learning_rate * db\n",
    "        return dX\n",
    "\n",
    "class CNNLSTMModel:\n",
    "    def __init__(self, num_filters, kernel_size, pool_size, lstm_units, num_classes, dropout_rate):\n",
    "        self.conv_W = init_weights_he((num_filters, kernel_size, kernel_size, 3))\n",
    "        self.conv_b = np.zeros((1, num_filters))\n",
    "        self.lstm = SimpleLSTM(input_dim=num_filters, units=lstm_units)\n",
    "        self.dense = Dense(input_dim=lstm_units, units=num_classes)\n",
    "        self.dropout_rate = dropout_rate\n",
    "\n",
    "    def forward(self, X):\n",
    "        # Convolutional Layer with Batch Normalization and ReLU\n",
    "        X = conv2d(X, self.conv_W, self.conv_b)\n",
    "        X = max_pool2d(X, pool_size)\n",
    "        X = max_pool2d(X, pool_size)\n",
    "        X = batch_normalization(X)  # Menambahkan Batch Normalization\n",
    "        batch_size, height, width, channels = X.shape\n",
    "        X = X.reshape(batch_size, height * width, channels)\n",
    "\n",
    "        # LSTM Layer with Dropout and Batch Normalization\n",
    "        X = self.lstm.forward(X)\n",
    "        X = batch_normalization(X)  # Batch normalization sebelum dropout\n",
    "        X = dropout(X, self.dropout_rate)\n",
    "\n",
    "        # Dense layer with Softmax\n",
    "        X = self.dense.forward(X)\n",
    "        return softmax(X)\n",
    "\n",
    "    def backward(self, X, y_true, y_pred, learning_rate):\n",
    "        d_output = categorical_crossentropy_derivative(y_true, y_pred)\n",
    "\n",
    "        # Backward Propagation\n",
    "        d_dense = self.dense.backward(d_output, learning_rate)\n",
    "        d_dense = clip_gradients(d_dense, threshold=1.0)\n",
    "\n",
    "        d_lstm = self.lstm.backward(d_dense, learning_rate)\n",
    "        d_lstm = clip_gradients(d_lstm, threshold=1.0)\n",
    "\n",
    "        d_lstm = d_lstm[:, np.newaxis, np.newaxis, :]\n",
    "        d_conv, dW, db = conv2d_backward(d_lstm, X, self.conv_W)\n",
    "\n",
    "        # Regularisasi L2 pada layer konvolusi dan dense\n",
    "        dW += l2_regularization(self.conv_W)\n",
    "        db += l2_regularization(self.conv_b)\n",
    "\n",
    "        # Gradient clipping untuk convolution gradients\n",
    "        dW = clip_gradients(dW, threshold=1.0)\n",
    "        db = clip_gradients(db, threshold=1.0)\n",
    "\n",
    "        # Update weights\n",
    "        self.conv_W -= learning_rate * dW\n",
    "        self.conv_b -= learning_rate * db\n",
    "\n",
    "# Fungsi Batch Normalization\n",
    "def batch_normalization(X, epsilon=1e-5):\n",
    "    mean = np.mean(X, axis=0)\n",
    "    variance = np.var(X, axis=0)\n",
    "    X_norm = (X - mean) / np.sqrt(variance + epsilon)\n",
    "    return X_norm\n",
    "\n",
    "def pad_last_batch(X_batch, batch_size):\n",
    "    if X_batch.shape[0] < batch_size:\n",
    "        pad_size = batch_size - X_batch.shape[0]\n",
    "        padding = np.zeros((pad_size, *X_batch.shape[1:]))\n",
    "        X_batch = np.vstack((X_batch, padding))\n",
    "    return X_batch\n"
   ]
  },
  {
   "cell_type": "markdown",
   "id": "093ec6d2-18ee-4622-9fc7-6f4745bf609a",
   "metadata": {
    "tags": []
   },
   "source": [
    "## Implementasi sesuai hasil parameter terbaik"
   ]
  },
  {
   "cell_type": "code",
   "execution_count": 4,
   "id": "32586e41-577f-4bb8-935c-e3bd9ac0cf2e",
   "metadata": {},
   "outputs": [],
   "source": [
    "epochs       = 50\n",
    "batch_size   = 32\n",
    "initial_learning_rate = 0.001\n",
    "kernel_size  = 5\n",
    "num_filters  = 50\n",
    "pool_size    = 5 \n",
    "lstm_units   = 300\n",
    "dropout_rate = 0.5\n",
    "num_classes  = len(np.unique(labels))  "
   ]
  },
  {
   "cell_type": "code",
   "execution_count": 6,
   "id": "03ee6482-3d38-426c-a2e0-7d62152df1f2",
   "metadata": {
    "scrolled": true
   },
   "outputs": [
    {
     "name": "stderr",
     "output_type": "stream",
     "text": [
      "Epoch 1/50: 100%|███████████████████████████████████████████████████████████████████| 57/57 [00:42<00:00,  1.35batch/s]\n"
     ]
    },
    {
     "name": "stdout",
     "output_type": "stream",
     "text": [
      " - loss: 1.5126 - accuracy: 0.5291 - val_loss: 1.0517 - val_accuracy: 0.6244\n"
     ]
    },
    {
     "name": "stderr",
     "output_type": "stream",
     "text": [
      "Epoch 2/50: 100%|███████████████████████████████████████████████████████████████████| 57/57 [00:41<00:00,  1.36batch/s]\n"
     ]
    },
    {
     "name": "stdout",
     "output_type": "stream",
     "text": [
      " - loss: 1.0316 - accuracy: 0.6338 - val_loss: 0.9747 - val_accuracy: 0.6533\n"
     ]
    },
    {
     "name": "stderr",
     "output_type": "stream",
     "text": [
      "Epoch 3/50: 100%|███████████████████████████████████████████████████████████████████| 57/57 [00:41<00:00,  1.37batch/s]\n"
     ]
    },
    {
     "name": "stdout",
     "output_type": "stream",
     "text": [
      " - loss: 1.0932 - accuracy: 0.5910 - val_loss: 0.9579 - val_accuracy: 0.6378\n"
     ]
    },
    {
     "name": "stderr",
     "output_type": "stream",
     "text": [
      "Epoch 4/50: 100%|███████████████████████████████████████████████████████████████████| 57/57 [00:41<00:00,  1.37batch/s]\n"
     ]
    },
    {
     "name": "stdout",
     "output_type": "stream",
     "text": [
      " - loss: 1.0047 - accuracy: 0.6025 - val_loss: 0.7710 - val_accuracy: 0.6778\n"
     ]
    },
    {
     "name": "stderr",
     "output_type": "stream",
     "text": [
      "Epoch 5/50: 100%|███████████████████████████████████████████████████████████████████| 57/57 [00:41<00:00,  1.37batch/s]\n"
     ]
    },
    {
     "name": "stdout",
     "output_type": "stream",
     "text": [
      " - loss: 0.7929 - accuracy: 0.6738 - val_loss: 0.6335 - val_accuracy: 0.7422\n"
     ]
    },
    {
     "name": "stderr",
     "output_type": "stream",
     "text": [
      "Epoch 6/50: 100%|███████████████████████████████████████████████████████████████████| 57/57 [00:41<00:00,  1.38batch/s]\n"
     ]
    },
    {
     "name": "stdout",
     "output_type": "stream",
     "text": [
      " - loss: 0.6464 - accuracy: 0.7418 - val_loss: 0.5526 - val_accuracy: 0.7733\n"
     ]
    },
    {
     "name": "stderr",
     "output_type": "stream",
     "text": [
      "Epoch 7/50: 100%|███████████████████████████████████████████████████████████████████| 57/57 [00:41<00:00,  1.38batch/s]\n"
     ]
    },
    {
     "name": "stdout",
     "output_type": "stream",
     "text": [
      " - loss: 0.5347 - accuracy: 0.7834 - val_loss: 0.4243 - val_accuracy: 0.8511\n"
     ]
    },
    {
     "name": "stderr",
     "output_type": "stream",
     "text": [
      "Epoch 8/50: 100%|███████████████████████████████████████████████████████████████████| 57/57 [00:41<00:00,  1.37batch/s]\n"
     ]
    },
    {
     "name": "stdout",
     "output_type": "stream",
     "text": [
      " - loss: 0.4599 - accuracy: 0.8196 - val_loss: 0.3475 - val_accuracy: 0.8644\n"
     ]
    },
    {
     "name": "stderr",
     "output_type": "stream",
     "text": [
      "Epoch 9/50: 100%|███████████████████████████████████████████████████████████████████| 57/57 [00:41<00:00,  1.38batch/s]\n"
     ]
    },
    {
     "name": "stdout",
     "output_type": "stream",
     "text": [
      " - loss: 0.3526 - accuracy: 0.8596 - val_loss: 0.3010 - val_accuracy: 0.9000\n"
     ]
    },
    {
     "name": "stderr",
     "output_type": "stream",
     "text": [
      "Epoch 10/50: 100%|██████████████████████████████████████████████████████████████████| 57/57 [00:41<00:00,  1.38batch/s]\n"
     ]
    },
    {
     "name": "stdout",
     "output_type": "stream",
     "text": [
      " - loss: 0.3016 - accuracy: 0.8953 - val_loss: 0.2030 - val_accuracy: 0.9311\n"
     ]
    },
    {
     "name": "stderr",
     "output_type": "stream",
     "text": [
      "Epoch 11/50: 100%|██████████████████████████████████████████████████████████████████| 57/57 [00:41<00:00,  1.38batch/s]\n"
     ]
    },
    {
     "name": "stdout",
     "output_type": "stream",
     "text": [
      " - loss: 0.2096 - accuracy: 0.9304 - val_loss: 0.1615 - val_accuracy: 0.9578\n"
     ]
    },
    {
     "name": "stderr",
     "output_type": "stream",
     "text": [
      "Epoch 12/50: 100%|██████████████████████████████████████████████████████████████████| 57/57 [00:41<00:00,  1.38batch/s]\n"
     ]
    },
    {
     "name": "stdout",
     "output_type": "stream",
     "text": [
      " - loss: 0.1746 - accuracy: 0.9397 - val_loss: 0.1351 - val_accuracy: 0.9578\n"
     ]
    },
    {
     "name": "stderr",
     "output_type": "stream",
     "text": [
      "Epoch 13/50: 100%|██████████████████████████████████████████████████████████████████| 57/57 [00:42<00:00,  1.35batch/s]\n"
     ]
    },
    {
     "name": "stdout",
     "output_type": "stream",
     "text": [
      " - loss: 0.1396 - accuracy: 0.9534 - val_loss: 0.1535 - val_accuracy: 0.9578\n"
     ]
    },
    {
     "name": "stderr",
     "output_type": "stream",
     "text": [
      "Epoch 14/50: 100%|██████████████████████████████████████████████████████████████████| 57/57 [00:41<00:00,  1.38batch/s]\n"
     ]
    },
    {
     "name": "stdout",
     "output_type": "stream",
     "text": [
      " - loss: 0.1384 - accuracy: 0.9523 - val_loss: 0.1155 - val_accuracy: 0.9622\n"
     ]
    },
    {
     "name": "stderr",
     "output_type": "stream",
     "text": [
      "Epoch 15/50: 100%|██████████████████████████████████████████████████████████████████| 57/57 [00:41<00:00,  1.38batch/s]\n"
     ]
    },
    {
     "name": "stdout",
     "output_type": "stream",
     "text": [
      " - loss: 0.1277 - accuracy: 0.9594 - val_loss: 0.0834 - val_accuracy: 0.9822\n"
     ]
    },
    {
     "name": "stderr",
     "output_type": "stream",
     "text": [
      "Epoch 16/50: 100%|██████████████████████████████████████████████████████████████████| 57/57 [00:42<00:00,  1.35batch/s]\n"
     ]
    },
    {
     "name": "stdout",
     "output_type": "stream",
     "text": [
      " - loss: 0.1188 - accuracy: 0.9622 - val_loss: 0.1012 - val_accuracy: 0.9689\n"
     ]
    },
    {
     "name": "stderr",
     "output_type": "stream",
     "text": [
      "Epoch 17/50: 100%|██████████████████████████████████████████████████████████████████| 57/57 [00:41<00:00,  1.37batch/s]\n"
     ]
    },
    {
     "name": "stdout",
     "output_type": "stream",
     "text": [
      " - loss: 0.1013 - accuracy: 0.9655 - val_loss: 0.0681 - val_accuracy: 0.9844\n"
     ]
    },
    {
     "name": "stderr",
     "output_type": "stream",
     "text": [
      "Epoch 18/50: 100%|██████████████████████████████████████████████████████████████████| 57/57 [00:41<00:00,  1.37batch/s]\n"
     ]
    },
    {
     "name": "stdout",
     "output_type": "stream",
     "text": [
      " - loss: 0.0889 - accuracy: 0.9726 - val_loss: 0.0637 - val_accuracy: 0.9800\n"
     ]
    },
    {
     "name": "stderr",
     "output_type": "stream",
     "text": [
      "Epoch 19/50: 100%|██████████████████████████████████████████████████████████████████| 57/57 [00:41<00:00,  1.38batch/s]\n"
     ]
    },
    {
     "name": "stdout",
     "output_type": "stream",
     "text": [
      " - loss: 0.0827 - accuracy: 0.9737 - val_loss: 0.0687 - val_accuracy: 0.9778\n"
     ]
    },
    {
     "name": "stderr",
     "output_type": "stream",
     "text": [
      "Epoch 20/50: 100%|██████████████████████████████████████████████████████████████████| 57/57 [00:41<00:00,  1.37batch/s]\n"
     ]
    },
    {
     "name": "stdout",
     "output_type": "stream",
     "text": [
      " - loss: 0.0682 - accuracy: 0.9803 - val_loss: 0.0535 - val_accuracy: 0.9933\n"
     ]
    },
    {
     "name": "stderr",
     "output_type": "stream",
     "text": [
      "Epoch 21/50: 100%|██████████████████████████████████████████████████████████████████| 57/57 [00:44<00:00,  1.29batch/s]\n"
     ]
    },
    {
     "name": "stdout",
     "output_type": "stream",
     "text": [
      " - loss: 0.0737 - accuracy: 0.9770 - val_loss: 0.0619 - val_accuracy: 0.9778\n"
     ]
    },
    {
     "name": "stderr",
     "output_type": "stream",
     "text": [
      "Epoch 22/50: 100%|██████████████████████████████████████████████████████████████████| 57/57 [00:41<00:00,  1.38batch/s]\n"
     ]
    },
    {
     "name": "stdout",
     "output_type": "stream",
     "text": [
      " - loss: 0.0759 - accuracy: 0.9814 - val_loss: 0.0565 - val_accuracy: 0.9844\n"
     ]
    },
    {
     "name": "stderr",
     "output_type": "stream",
     "text": [
      "Epoch 23/50: 100%|██████████████████████████████████████████████████████████████████| 57/57 [00:41<00:00,  1.38batch/s]\n"
     ]
    },
    {
     "name": "stdout",
     "output_type": "stream",
     "text": [
      " - loss: 0.0755 - accuracy: 0.9786 - val_loss: 0.0399 - val_accuracy: 0.9933\n"
     ]
    },
    {
     "name": "stderr",
     "output_type": "stream",
     "text": [
      "Epoch 24/50: 100%|██████████████████████████████████████████████████████████████████| 57/57 [00:41<00:00,  1.38batch/s]\n"
     ]
    },
    {
     "name": "stdout",
     "output_type": "stream",
     "text": [
      " - loss: 0.0593 - accuracy: 0.9819 - val_loss: 0.0242 - val_accuracy: 0.9956\n"
     ]
    },
    {
     "name": "stderr",
     "output_type": "stream",
     "text": [
      "Epoch 25/50: 100%|██████████████████████████████████████████████████████████████████| 57/57 [00:41<00:00,  1.38batch/s]\n"
     ]
    },
    {
     "name": "stdout",
     "output_type": "stream",
     "text": [
      " - loss: 0.0657 - accuracy: 0.9770 - val_loss: 0.0517 - val_accuracy: 0.9889\n"
     ]
    },
    {
     "name": "stderr",
     "output_type": "stream",
     "text": [
      "Epoch 26/50: 100%|██████████████████████████████████████████████████████████████████| 57/57 [00:41<00:00,  1.37batch/s]\n"
     ]
    },
    {
     "name": "stdout",
     "output_type": "stream",
     "text": [
      " - loss: 0.0565 - accuracy: 0.9792 - val_loss: 0.0358 - val_accuracy: 0.9867\n"
     ]
    },
    {
     "name": "stderr",
     "output_type": "stream",
     "text": [
      "Epoch 27/50: 100%|██████████████████████████████████████████████████████████████████| 57/57 [00:41<00:00,  1.38batch/s]\n"
     ]
    },
    {
     "name": "stdout",
     "output_type": "stream",
     "text": [
      " - loss: 0.0465 - accuracy: 0.9896 - val_loss: 0.0388 - val_accuracy: 0.9844\n"
     ]
    },
    {
     "name": "stderr",
     "output_type": "stream",
     "text": [
      "Epoch 28/50: 100%|██████████████████████████████████████████████████████████████████| 57/57 [00:41<00:00,  1.38batch/s]\n"
     ]
    },
    {
     "name": "stdout",
     "output_type": "stream",
     "text": [
      " - loss: 0.0553 - accuracy: 0.9868 - val_loss: 0.0313 - val_accuracy: 0.9956\n"
     ]
    },
    {
     "name": "stderr",
     "output_type": "stream",
     "text": [
      "Epoch 29/50: 100%|██████████████████████████████████████████████████████████████████| 57/57 [00:41<00:00,  1.38batch/s]\n"
     ]
    },
    {
     "name": "stdout",
     "output_type": "stream",
     "text": [
      " - loss: 0.0373 - accuracy: 0.9907 - val_loss: 0.0286 - val_accuracy: 0.9933\n"
     ]
    },
    {
     "name": "stderr",
     "output_type": "stream",
     "text": [
      "Epoch 30/50: 100%|██████████████████████████████████████████████████████████████████| 57/57 [00:41<00:00,  1.38batch/s]\n"
     ]
    },
    {
     "name": "stdout",
     "output_type": "stream",
     "text": [
      " - loss: 0.0460 - accuracy: 0.9874 - val_loss: 0.0367 - val_accuracy: 0.9867\n"
     ]
    },
    {
     "name": "stderr",
     "output_type": "stream",
     "text": [
      "Epoch 31/50: 100%|██████████████████████████████████████████████████████████████████| 57/57 [00:41<00:00,  1.39batch/s]\n"
     ]
    },
    {
     "name": "stdout",
     "output_type": "stream",
     "text": [
      " - loss: 0.0402 - accuracy: 0.9874 - val_loss: 0.0359 - val_accuracy: 0.9911\n"
     ]
    },
    {
     "name": "stderr",
     "output_type": "stream",
     "text": [
      "Epoch 32/50: 100%|██████████████████████████████████████████████████████████████████| 57/57 [00:41<00:00,  1.38batch/s]\n"
     ]
    },
    {
     "name": "stdout",
     "output_type": "stream",
     "text": [
      " - loss: 0.0370 - accuracy: 0.9918 - val_loss: 0.0228 - val_accuracy: 0.9933\n"
     ]
    },
    {
     "name": "stderr",
     "output_type": "stream",
     "text": [
      "Epoch 33/50: 100%|██████████████████████████████████████████████████████████████████| 57/57 [00:41<00:00,  1.38batch/s]\n"
     ]
    },
    {
     "name": "stdout",
     "output_type": "stream",
     "text": [
      " - loss: 0.0394 - accuracy: 0.9896 - val_loss: 0.0324 - val_accuracy: 0.9933\n"
     ]
    },
    {
     "name": "stderr",
     "output_type": "stream",
     "text": [
      "Epoch 34/50: 100%|██████████████████████████████████████████████████████████████████| 57/57 [00:41<00:00,  1.37batch/s]\n"
     ]
    },
    {
     "name": "stdout",
     "output_type": "stream",
     "text": [
      " - loss: 0.0403 - accuracy: 0.9857 - val_loss: 0.0208 - val_accuracy: 0.9956\n"
     ]
    },
    {
     "name": "stderr",
     "output_type": "stream",
     "text": [
      "Epoch 35/50: 100%|██████████████████████████████████████████████████████████████████| 57/57 [00:41<00:00,  1.38batch/s]\n"
     ]
    },
    {
     "name": "stdout",
     "output_type": "stream",
     "text": [
      " - loss: 0.0370 - accuracy: 0.9901 - val_loss: 0.0269 - val_accuracy: 0.9911\n"
     ]
    },
    {
     "name": "stderr",
     "output_type": "stream",
     "text": [
      "Epoch 36/50: 100%|██████████████████████████████████████████████████████████████████| 57/57 [00:41<00:00,  1.39batch/s]\n"
     ]
    },
    {
     "name": "stdout",
     "output_type": "stream",
     "text": [
      " - loss: 0.0337 - accuracy: 0.9912 - val_loss: 0.0415 - val_accuracy: 0.9867\n"
     ]
    },
    {
     "name": "stderr",
     "output_type": "stream",
     "text": [
      "Epoch 37/50: 100%|██████████████████████████████████████████████████████████████████| 57/57 [00:41<00:00,  1.38batch/s]\n"
     ]
    },
    {
     "name": "stdout",
     "output_type": "stream",
     "text": [
      " - loss: 0.0382 - accuracy: 0.9901 - val_loss: 0.0297 - val_accuracy: 0.9933\n"
     ]
    },
    {
     "name": "stderr",
     "output_type": "stream",
     "text": [
      "Epoch 38/50: 100%|██████████████████████████████████████████████████████████████████| 57/57 [00:42<00:00,  1.36batch/s]\n"
     ]
    },
    {
     "name": "stdout",
     "output_type": "stream",
     "text": [
      " - loss: 0.0351 - accuracy: 0.9907 - val_loss: 0.0287 - val_accuracy: 0.9933\n"
     ]
    },
    {
     "name": "stderr",
     "output_type": "stream",
     "text": [
      "Epoch 39/50: 100%|██████████████████████████████████████████████████████████████████| 57/57 [00:41<00:00,  1.38batch/s]\n"
     ]
    },
    {
     "name": "stdout",
     "output_type": "stream",
     "text": [
      " - loss: 0.0417 - accuracy: 0.9885 - val_loss: 0.0350 - val_accuracy: 0.9933\n"
     ]
    },
    {
     "name": "stderr",
     "output_type": "stream",
     "text": [
      "Epoch 40/50: 100%|██████████████████████████████████████████████████████████████████| 57/57 [00:41<00:00,  1.38batch/s]\n"
     ]
    },
    {
     "name": "stdout",
     "output_type": "stream",
     "text": [
      " - loss: 0.0389 - accuracy: 0.9907 - val_loss: 0.0374 - val_accuracy: 0.9889\n"
     ]
    },
    {
     "name": "stderr",
     "output_type": "stream",
     "text": [
      "Epoch 41/50: 100%|██████████████████████████████████████████████████████████████████| 57/57 [00:41<00:00,  1.36batch/s]\n"
     ]
    },
    {
     "name": "stdout",
     "output_type": "stream",
     "text": [
      " - loss: 0.0392 - accuracy: 0.9879 - val_loss: 0.0366 - val_accuracy: 0.9867\n"
     ]
    },
    {
     "name": "stderr",
     "output_type": "stream",
     "text": [
      "Epoch 42/50: 100%|██████████████████████████████████████████████████████████████████| 57/57 [00:41<00:00,  1.38batch/s]\n"
     ]
    },
    {
     "name": "stdout",
     "output_type": "stream",
     "text": [
      " - loss: 0.0422 - accuracy: 0.9874 - val_loss: 0.0507 - val_accuracy: 0.9867\n"
     ]
    },
    {
     "name": "stderr",
     "output_type": "stream",
     "text": [
      "Epoch 43/50: 100%|██████████████████████████████████████████████████████████████████| 57/57 [00:41<00:00,  1.38batch/s]\n"
     ]
    },
    {
     "name": "stdout",
     "output_type": "stream",
     "text": [
      " - loss: 0.0512 - accuracy: 0.9836 - val_loss: 0.0426 - val_accuracy: 0.9844\n"
     ]
    },
    {
     "name": "stderr",
     "output_type": "stream",
     "text": [
      "Epoch 44/50: 100%|██████████████████████████████████████████████████████████████████| 57/57 [00:41<00:00,  1.37batch/s]\n"
     ]
    },
    {
     "name": "stdout",
     "output_type": "stream",
     "text": [
      " - loss: 0.0406 - accuracy: 0.9890 - val_loss: 0.0632 - val_accuracy: 0.9867\n"
     ]
    },
    {
     "name": "stderr",
     "output_type": "stream",
     "text": [
      "Epoch 45/50: 100%|██████████████████████████████████████████████████████████████████| 57/57 [00:41<00:00,  1.36batch/s]\n"
     ]
    },
    {
     "name": "stdout",
     "output_type": "stream",
     "text": [
      " - loss: 0.0373 - accuracy: 0.9896 - val_loss: 0.0395 - val_accuracy: 0.9911\n"
     ]
    },
    {
     "name": "stderr",
     "output_type": "stream",
     "text": [
      "Epoch 46/50: 100%|██████████████████████████████████████████████████████████████████| 57/57 [00:40<00:00,  1.40batch/s]\n"
     ]
    },
    {
     "name": "stdout",
     "output_type": "stream",
     "text": [
      " - loss: 0.0436 - accuracy: 0.9885 - val_loss: 0.0589 - val_accuracy: 0.9844\n"
     ]
    },
    {
     "name": "stderr",
     "output_type": "stream",
     "text": [
      "Epoch 47/50: 100%|██████████████████████████████████████████████████████████████████| 57/57 [00:42<00:00,  1.33batch/s]\n"
     ]
    },
    {
     "name": "stdout",
     "output_type": "stream",
     "text": [
      " - loss: 0.0436 - accuracy: 0.9868 - val_loss: 0.0617 - val_accuracy: 0.9844\n"
     ]
    },
    {
     "name": "stderr",
     "output_type": "stream",
     "text": [
      "Epoch 48/50: 100%|██████████████████████████████████████████████████████████████████| 57/57 [00:41<00:00,  1.38batch/s]\n"
     ]
    },
    {
     "name": "stdout",
     "output_type": "stream",
     "text": [
      " - loss: 0.0369 - accuracy: 0.9890 - val_loss: 0.0664 - val_accuracy: 0.9822\n"
     ]
    },
    {
     "name": "stderr",
     "output_type": "stream",
     "text": [
      "Epoch 49/50: 100%|██████████████████████████████████████████████████████████████████| 57/57 [00:41<00:00,  1.37batch/s]\n"
     ]
    },
    {
     "name": "stdout",
     "output_type": "stream",
     "text": [
      " - loss: 0.0430 - accuracy: 0.9874 - val_loss: 0.0611 - val_accuracy: 0.9800\n"
     ]
    },
    {
     "name": "stderr",
     "output_type": "stream",
     "text": [
      "Epoch 50/50: 100%|██████████████████████████████████████████████████████████████████| 57/57 [00:41<00:00,  1.36batch/s]\n"
     ]
    },
    {
     "name": "stdout",
     "output_type": "stream",
     "text": [
      " - loss: 0.0352 - accuracy: 0.9912 - val_loss: 0.0715 - val_accuracy: 0.9778\n",
      "Model dengan val_accuracy terbaik (0.9956) disimpan.\n"
     ]
    }
   ],
   "source": [
    "# Inisialisasi model, dictionary history, dan early stopping\n",
    "model = CNNLSTMModel(num_filters=num_filters, \n",
    "                     kernel_size=kernel_size, \n",
    "                     pool_size=pool_size, \n",
    "                     lstm_units=lstm_units, \n",
    "                     num_classes=num_classes, \n",
    "                     dropout_rate=dropout_rate)\n",
    "history = {'loss': [], 'val_loss': [], 'accuracy': [], 'val_accuracy': []}\n",
    "early_stopping = EarlyStopping(patience=10)\n",
    "best_val_accuracy = 0.0\n",
    "best_model = None\n",
    "\n",
    "# Loop training dengan Early Stopping\n",
    "for epoch in range(epochs):\n",
    "  \n",
    "\n",
    "    batch_losses = []\n",
    "    batch_accuracies = []\n",
    "    num_batches = int(np.ceil(X_train.shape[0] / batch_size))\n",
    "    learning_rate = exponential_decay(epoch, initial_learning_rate)\n",
    "\n",
    "    with tqdm(total=num_batches, desc=f'Epoch {epoch + 1}/{epochs}', unit='batch') as pbar:\n",
    "        for i in range(0, X_train.shape[0], batch_size):\n",
    "            X_batch = X_train[i:i + batch_size]\n",
    "            y_batch = y_train[i:i + batch_size]\n",
    "\n",
    "            # Feedforward\n",
    "            y_pred = model.forward(X_batch)\n",
    "\n",
    "            # Hitung loss dan akurasi batch            \n",
    "            loss = categorical_crossentropy(y_batch, y_pred)\n",
    "            acc = np.mean(np.argmax(y_batch, axis=1) == np.argmax(y_pred, axis=1))\n",
    "\n",
    "            # Backpropagation\n",
    "            model.backward(X_batch, y_batch, y_pred, learning_rate)\n",
    "\n",
    "            batch_losses.append(loss)\n",
    "            batch_accuracies.append(acc)\n",
    "\n",
    "            pbar.update(1)\n",
    "\n",
    "    # Rata-rata loss dan akurasi per epoch\n",
    "    avg_loss = np.mean(batch_losses)\n",
    "    avg_acc = np.mean(batch_accuracies)\n",
    "\n",
    "    # Validasi\n",
    "    y_val_pred = model.forward(X_test)\n",
    "    val_loss = categorical_crossentropy(y_test, y_val_pred)\n",
    "    val_acc = np.mean(np.argmax(y_test, axis=1) == np.argmax(y_val_pred, axis=1))\n",
    "\n",
    "    # Simpan hasil training ke history\n",
    "    history['loss'].append(avg_loss)\n",
    "    history['val_loss'].append(val_loss)\n",
    "    history['accuracy'].append(avg_acc)\n",
    "    history['val_accuracy'].append(val_acc)\n",
    "\n",
    "    # Simpan model terbaik berdasarkan val_accuracy\n",
    "    if val_acc > best_val_accuracy:\n",
    "        best_val_accuracy = val_acc\n",
    "        best_model = copy.deepcopy(model)\n",
    "\n",
    "    # Update early stopping\n",
    "    early_stopping.on_epoch_end(val_acc)\n",
    "\n",
    "    print(f' - loss: {avg_loss:.4f} - accuracy: {avg_acc:.4f} - val_loss: {val_loss:.4f} - val_accuracy: {val_acc:.4f}')\n",
    "\n",
    "# Simpan model terbaik ke file\n",
    "if best_model:\n",
    "    with open('Implementasi_Terbaik_FFT.pkl', 'wb') as f:\n",
    "        pickle.dump(best_model, f)\n",
    "    print(f\"Model dengan val_accuracy terbaik ({best_val_accuracy:.4f}) disimpan.\")\n"
   ]
  },
  {
   "cell_type": "code",
   "execution_count": 7,
   "id": "42e5c548-90fe-468a-a104-9cfabffea8a9",
   "metadata": {},
   "outputs": [
    {
     "data": {
      "image/png": "[encoded data removed]",
      "text/plain": [
       "<Figure size 1200x400 with 2 Axes>"
      ]
     },
     "metadata": {},
     "output_type": "display_data"
    }
   ],
   "source": [
    "# Plotting loss dan akurasi\n",
    "plt.figure(figsize=(12, 4))\n",
    "\n",
    "plt.subplot(1, 2, 1)\n",
    "plt.plot(history['loss'], label='Train Loss')\n",
    "plt.plot(history['val_loss'], label='Validation Loss')\n",
    "plt.title('Loss')\n",
    "plt.xlabel('Epoch')\n",
    "plt.ylabel('Loss')\n",
    "plt.legend()\n",
    "\n",
    "plt.subplot(1, 2, 2)\n",
    "plt.plot(history['accuracy'], label='Train Accuracy')\n",
    "plt.plot(history['val_accuracy'], label='Validation Accuracy')\n",
    "plt.title('Accuracy')\n",
    "plt.xlabel('Epoch')\n",
    "plt.ylabel('Accuracy')\n",
    "plt.legend()\n",
    "\n",
    "plt.tight_layout()\n",
    "plt.show()"
   ]
  },
  {
   "cell_type": "markdown",
   "id": "1ff83890-1845-4bf9-a0d5-ffb25189d399",
   "metadata": {},
   "source": [
    "### Evaluasi"
   ]
  },
  {
   "cell_type": "code",
   "execution_count": 11,
   "id": "e414d86e-dc56-48d2-ba1c-a6aaa4809ca8",
   "metadata": {},
   "outputs": [],
   "source": [
    "np.random.seed(123)\n",
    "\n",
    "# Memuat model terbaik dari file\n",
    "with open('Implementasi_Terbaik_FFT.pkl', 'rb') as f:\n",
    "    best_model = pickle.load(f)\n",
    "\n",
    "# Prediksi pada data testing menggunakan model terbaik\n",
    "y_pred = best_model.forward(X_test)\n",
    "y_pred_classes = np.argmax(y_pred, axis=1)\n",
    "\n",
    "y_true = np.argmax(y_test, axis=1)"
   ]
  },
  {
   "cell_type": "code",
   "execution_count": 12,
   "id": "d71fd08d-480d-4b3d-9ebe-d195f2c00d75",
   "metadata": {},
   "outputs": [
    {
     "data": {
      "image/png": "[encoded data removed]",
      "text/plain": [
       "<Figure size 640x480 with 2 Axes>"
      ]
     },
     "metadata": {},
     "output_type": "display_data"
    }
   ],
   "source": [
    "Confusion_matrix = confusion_matrix(y_true, y_pred_classes)\n",
    "class_label      = np.unique(labels)\n",
    "df_confusion     = pd.DataFrame(Confusion_matrix, index = class_label, columns = class_label)\n",
    "\n",
    "sns.heatmap(df_confusion, annot=True, fmt = \"d\", cmap=plt.cm.Blues)\n",
    "plt.title('Confusion Matrix')\n",
    "plt.xlabel('Prediction Label')\n",
    "plt.ylabel('Actual Label')\n",
    "plt.show()"
   ]
  },
  {
   "cell_type": "code",
   "execution_count": 13,
   "id": "af7ed8a7-d5b3-408d-840a-a965ef9343c3",
   "metadata": {},
   "outputs": [
    {
     "name": "stdout",
     "output_type": "stream",
     "text": [
      "Class 0:\n",
      "TP: 195, TN: 253, FP: 1, FN: 1\n",
      "\n",
      "Class 1:\n",
      "TP: 146, TN: 302, FP: 0, FN: 2\n",
      "\n",
      "Class 2:\n",
      "TP: 74, TN: 375, FP: 1, FN: 0\n",
      "\n",
      "Class 3:\n",
      "TP: 32, TN: 417, FP: 1, FN: 0\n",
      "\n"
     ]
    }
   ],
   "source": [
    "# True Positives (TP) berada di diagonal utama\n",
    "TP = np.diag(Confusion_matrix)\n",
    "\n",
    "# False Positives (FP) adalah jumlah kolom kecuali diagonal\n",
    "FP = np.sum(Confusion_matrix, axis=0) - TP\n",
    "\n",
    "# False Negatives (FN) adalah jumlah baris kecuali diagonal\n",
    "FN = np.sum(Confusion_matrix, axis=1) - TP\n",
    "\n",
    "# True Negatives (TN) adalah total semua nilai dikurangi jumlah TP, FP, dan FN\n",
    "TN = np.sum(Confusion_matrix) - (FP + FN + TP)\n",
    "\n",
    "# Menampilkan hasil\n",
    "for i in range(len(TP)):\n",
    "    print(f\"Class {i}:\")\n",
    "    print(f\"TP: {TP[i]}, TN: {TN[i]}, FP: {FP[i]}, FN: {FN[i]}\\n\")"
   ]
  },
  {
   "cell_type": "code",
   "execution_count": 14,
   "id": "205f50bf-a00a-4bc3-aa6d-e937f7b74a4d",
   "metadata": {},
   "outputs": [
    {
     "name": "stdout",
     "output_type": "stream",
     "text": [
      "Akurasi: 99.33 %\n"
     ]
    }
   ],
   "source": [
    "# Total nilai di confusion matrix\n",
    "total_values = np.sum(Confusion_matrix)\n",
    "\n",
    "# Akurasi: (Total TP) / (Total elemen di confusion matrix)\n",
    "accuracy = round((np.sum(TP) / total_values) * 100, 2)\n",
    "\n",
    "# Menampilkan hasil\n",
    "print(f\"Akurasi: {accuracy} %\")"
   ]
  },
  {
   "cell_type": "code",
   "execution_count": 15,
   "id": "ecd7e1d0-2d73-4e5a-854a-1bc02371752b",
   "metadata": {},
   "outputs": [
    {
     "name": "stdout",
     "output_type": "stream",
     "text": [
      "Rata-rata Precision: 98.78 %\n",
      "Rata-rata Recall   : 99.53 %\n",
      "Rata-rata F1-Score : 99.15 %\n"
     ]
    }
   ],
   "source": [
    "# Variabel untuk menyimpan jumlah precision, recall, dan f1-score\n",
    "total_precision = 0\n",
    "total_recall = 0\n",
    "total_f1_score = 0\n",
    "\n",
    "# Menghitung precision, recall, dan f1-score untuk setiap kelas\n",
    "for i in range(len(TP)):\n",
    "    # Menghitung precision, recall, dan f1-score (hindari pembagian dengan nol)\n",
    "    precision = TP[i] / (TP[i] + FP[i]) if (TP[i] + FP[i]) != 0 else 0\n",
    "    recall = TP[i] / (TP[i] + FN[i]) if (TP[i] + FN[i]) != 0 else 0\n",
    "    f1_score = (2 * precision * recall) / (precision + recall) if (precision + recall) != 0 else 0\n",
    "\n",
    "    # Menambah nilai precision, recall, dan f1-score ke total\n",
    "    total_precision += precision\n",
    "    total_recall += recall\n",
    "    total_f1_score += f1_score\n",
    "\n",
    "# Menghitung rata-rata biasa untuk precision, recall, dan f1-score\n",
    "average_precision = round((total_precision / len(TP))*100, 2)\n",
    "average_recall    = round((total_recall / len(TP))*100, 2)\n",
    "average_f1_score  = round((total_f1_score / len(TP))*100, 2)\n",
    "\n",
    "# Menampilkan hasil rata-rata\n",
    "print(f\"Rata-rata Precision: {average_precision} %\")\n",
    "print(f\"Rata-rata Recall   : {average_recall} %\")\n",
    "print(f\"Rata-rata F1-Score : {average_f1_score} %\")\n"
   ]
  },
  {
   "cell_type": "code",
   "execution_count": 16,
   "id": "f5ec6660-bc9a-4080-8de0-cf80d55e6d15",
   "metadata": {},
   "outputs": [
    {
     "name": "stdout",
     "output_type": "stream",
     "text": [
      "Class 0:\n",
      "TPR: 0.9949, FPR: 0.5000\n",
      "\n",
      "Class 1:\n",
      "TPR: 0.9865, FPR: 0.0000\n",
      "\n",
      "Class 2:\n",
      "TPR: 1.0000, FPR: 1.0000\n",
      "\n",
      "Class 3:\n",
      "TPR: 1.0000, FPR: 1.0000\n",
      "\n"
     ]
    }
   ],
   "source": [
    "# Menghitung TPR dan FPR per kelas\n",
    "TPR = TP / (TP + FN)\n",
    "FPR = FP / (FP + FN)\n",
    "\n",
    "# Menampilkan TPR dan FPR per kelas\n",
    "for i in range(len(TP)):\n",
    "    print(f\"Class {i}:\")\n",
    "    print(f\"TPR: {TPR[i]:.4f}, FPR: {FPR[i]:.4f}\\n\")"
   ]
  },
  {
   "cell_type": "code",
   "execution_count": 17,
   "id": "f69be91c-72ed-4004-bce4-bdafd7acf651",
   "metadata": {},
   "outputs": [
    {
     "name": "stdout",
     "output_type": "stream",
     "text": [
      "TPR: 99.53 %\n",
      "FPR: 62.5 %\n"
     ]
    }
   ],
   "source": [
    "# Menghitung rata-rata TPR dan FPR\n",
    "average_TPR = round(np.mean(TPR)*100, 2)\n",
    "average_FPR = round(np.mean(FPR)*100, 2)\n",
    "\n",
    "# Menampilkan hasil rata-rata TPR dan FPR\n",
    "print(f\"TPR: {average_TPR} %\")\n",
    "print(f\"FPR: {average_FPR} %\")"
   ]
  },
  {
   "cell_type": "code",
   "execution_count": null,
   "id": "6461e0a2-3c6d-4c65-8046-7f9d189fa188",
   "metadata": {},
   "outputs": [],
   "source": []
  }
 ],
 "metadata": {
  "kernelspec": {
   "display_name": "Python 3 (ipykernel)",
   "language": "python",
   "name": "python3"
  },
  "language_info": {
   "codemirror_mode": {
    "name": "ipython",
    "version": 3
   },
   "file_extension": ".py",
   "mimetype": "text/x-python",
   "name": "python",
   "nbconvert_exporter": "python",
   "pygments_lexer": "ipython3",
   "version": "3.10.0"
  }
 },
 "nbformat": 4,
 "nbformat_minor": 5
}
